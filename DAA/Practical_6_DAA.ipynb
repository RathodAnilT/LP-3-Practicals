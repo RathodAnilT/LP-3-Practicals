{
 "cells": [
  {
   "cell_type": "code",
   "execution_count": null,
   "id": "ce5a16c2-5faa-443a-8211-69fb05ceebbc",
   "metadata": {},
   "outputs": [],
   "source": [
    "\"\"\" Practical: 6 \n",
    "Problem Statement:\n",
    "Write a program for analysis of quick sort by using deterministic and randomized variant.\"\""
   ]
  },
  {
   "cell_type": "code",
   "execution_count": 1,
   "id": "d2deb16e-9b93-498b-8c00-855c8a68a01f",
   "metadata": {},
   "outputs": [
    {
     "name": "stdin",
     "output_type": "stream",
     "text": [
      "Enter the numbers to be sorted, separated by spaces:  20 39 40 98\n"
     ]
    },
    {
     "name": "stdout",
     "output_type": "stream",
     "text": [
      "Sorted array: [20, 39, 40, 98]\n",
      "Deterministic QuickSort Time: 0.0 seconds\n"
     ]
    }
   ],
   "source": [
    "# 1 Deterministic sorting...\n",
    "\n",
    "import time\n",
    "\n",
    "# Function to partition the array\n",
    "def partition(arr, low, high):\n",
    "    pivot = arr[high]  # Last element as pivot\n",
    "    i = low - 1\n",
    "    for j in range(low, high):\n",
    "        if arr[j] <= pivot:\n",
    "            i += 1\n",
    "            arr[i], arr[j] = arr[j], arr[i]\n",
    "    arr[i + 1], arr[high] = arr[high], arr[i + 1]\n",
    "    return i + 1\n",
    "\n",
    "# Deterministic QuickSort function\n",
    "def quicksort_deterministic(arr, low, high):\n",
    "    if low < high:\n",
    "        pi = partition(arr, low, high)\n",
    "        quicksort_deterministic(arr, low, pi - 1)\n",
    "        quicksort_deterministic(arr, pi + 1, high)\n",
    "\n",
    "# Main execution\n",
    "if __name__ == \"__main__\":\n",
    "    # User-defined input for array\n",
    "    user_input = input(\"Enter the numbers to be sorted, separated by spaces: \")\n",
    "    arr = list(map(int, user_input.split()))  # Convert input string to list of integers\n",
    "\n",
    "    start = time.time()\n",
    "    quicksort_deterministic(arr, 0, len(arr) - 1)\n",
    "    end = time.time()\n",
    "\n",
    "    print(f\"Sorted array: {arr}\")\n",
    "    print(f\"Deterministic QuickSort Time: {end - start} seconds\")\n"
   ]
  },
  {
   "cell_type": "code",
   "execution_count": 3,
   "id": "274d41bc-7379-470e-a192-3afea7268e50",
   "metadata": {},
   "outputs": [
    {
     "name": "stdin",
     "output_type": "stream",
     "text": [
      "Enter numbers separated by spaces:  20 18 2 3 6\n"
     ]
    },
    {
     "name": "stdout",
     "output_type": "stream",
     "text": [
      "Sorted array: [2, 3, 6, 18, 20]\n",
      "Randomized QuickSort Time: 0.0 seconds\n"
     ]
    }
   ],
   "source": [
    "# 2 Randomized Sort\n",
    "\n",
    "import time\n",
    "import random\n",
    "\n",
    "# Function to partition the array with random pivot\n",
    "def randomized_partition(arr, low, high):\n",
    "    random_pivot = random.randint(low, high)\n",
    "    arr[random_pivot], arr[high] = arr[high], arr[random_pivot]  # Swap random pivot with last element\n",
    "    return partition(arr, low, high)\n",
    "\n",
    "# Function to partition the array\n",
    "def partition(arr, low, high):\n",
    "    pivot = arr[high]  # Last element as pivot\n",
    "    i = low - 1\n",
    "    for j in range(low, high):\n",
    "        if arr[j] <= pivot:\n",
    "            i += 1\n",
    "            arr[i], arr[j] = arr[j], arr[i]\n",
    "    arr[i + 1], arr[high] = arr[high], arr[i + 1]\n",
    "    return i + 1\n",
    "\n",
    "# Randomized QuickSort function\n",
    "def quicksort_randomized(arr, low, high):\n",
    "    if low < high:\n",
    "        pi = randomized_partition(arr, low, high)\n",
    "        quicksort_randomized(arr, low, pi - 1)\n",
    "        quicksort_randomized(arr, pi + 1, high)\n",
    "\n",
    "# Main execution\n",
    "if __name__ == \"__main__\":\n",
    "    # User input for the array\n",
    "    user_input = input(\"Enter numbers separated by spaces: \")\n",
    "    arr = list(map(int, user_input.split()))  # Convert input string to a list of integers\n",
    "\n",
    "    start = time.time()\n",
    "    quicksort_randomized(arr, 0, len(arr) - 1)\n",
    "    end = time.time()\n",
    "\n",
    "    print(f\"Sorted array: {arr}\")\n",
    "    print(f\"Randomized QuickSort Time: {end - start} seconds\")\n"
   ]
  },
  {
   "cell_type": "code",
   "execution_count": null,
   "id": "fbdd4335-8b51-4f88-ab75-4cd1525f8a1f",
   "metadata": {},
   "outputs": [],
   "source": []
  }
 ],
 "metadata": {
  "kernelspec": {
   "display_name": "Python 3 (ipykernel)",
   "language": "python",
   "name": "python3"
  },
  "language_info": {
   "codemirror_mode": {
    "name": "ipython",
    "version": 3
   },
   "file_extension": ".py",
   "mimetype": "text/x-python",
   "name": "python",
   "nbconvert_exporter": "python",
   "pygments_lexer": "ipython3",
   "version": "3.12.1"
  }
 },
 "nbformat": 4,
 "nbformat_minor": 5
}
