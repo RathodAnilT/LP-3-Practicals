{
 "cells": [
  {
   "cell_type": "code",
   "execution_count": null,
   "id": "cc72e6f1-e7ad-4b12-83ca-62dc77f75703",
   "metadata": {},
   "outputs": [],
   "source": [
    "\"\"\" Practical: 2) \n",
    "Problem Statement:\n",
    "Write a program to implement Huffman Encoding using a greedy strategy.\"\"\""
   ]
  },
  {
   "cell_type": "code",
   "execution_count": 1,
   "id": "5e940e3f-3e98-4a6d-a757-5414eaa4de4d",
   "metadata": {},
   "outputs": [
    {
     "name": "stdin",
     "output_type": "stream",
     "text": [
      "Enter data to encode using Huffman coding:  Hello World!\n"
     ]
    },
    {
     "name": "stdout",
     "output_type": "stream",
     "text": [
      "Encoded Data: 1110110001011011101111110100001100001\n",
      "Decoded Data: Hello World!\n"
     ]
    }
   ],
   "source": [
    "import heapq\n",
    "\n",
    "# Node structure for Huffman Tree\n",
    "class HuffmanNode:\n",
    "    def __init__(self, char, freq):\n",
    "        self.char = char\n",
    "        self.freq = freq\n",
    "        self.left = None\n",
    "        self.right = None\n",
    "\n",
    "    def __lt__(self, other):\n",
    "        return self.freq < other.freq\n",
    "\n",
    "def generate_codes(root, current_code, codes):\n",
    "    if root is None:\n",
    "        return\n",
    "    if root.char is not None:\n",
    "        codes[root.char] = current_code\n",
    "    generate_codes(root.left, current_code + \"0\", codes)\n",
    "    generate_codes(root.right, current_code + \"1\", codes)\n",
    "\n",
    "def build_huffman_tree(frequency):\n",
    "    heap = []\n",
    "    for char, freq in frequency.items():\n",
    "        heapq.heappush(heap, HuffmanNode(char, freq))\n",
    "    \n",
    "    while len(heap) > 1:\n",
    "        node1 = heapq.heappop(heap)\n",
    "        node2 = heapq.heappop(heap)\n",
    "        merged = HuffmanNode(None, node1.freq + node2.freq)\n",
    "        merged.left = node1\n",
    "        merged.right = node2\n",
    "        heapq.heappush(heap, merged)\n",
    "    \n",
    "    return heapq.heappop(heap)\n",
    "\n",
    "def calculate_frequency(data):\n",
    "    frequency = {}\n",
    "    for char in data:\n",
    "        if char not in frequency:\n",
    "            frequency[char] = 0\n",
    "        frequency[char] += 1\n",
    "    return frequency\n",
    "\n",
    "def huffman_encoding(data):\n",
    "    if not data:\n",
    "        return \"Input data is empty.\", None\n",
    "\n",
    "    frequency = calculate_frequency(data)\n",
    "    huffman_tree_root = build_huffman_tree(frequency)\n",
    "    codes = {}\n",
    "    generate_codes(huffman_tree_root, \"\", codes)\n",
    "    encoded_data = \"\".join([codes[char] for char in data])\n",
    "    return encoded_data, huffman_tree_root\n",
    "\n",
    "def huffman_decoding(encoded_data, huffman_tree_root):\n",
    "    if not encoded_data or huffman_tree_root is None:\n",
    "        return \"Cannot decode. Either the data is empty or the tree is invalid.\"\n",
    "    \n",
    "    decoded_data = \"\"\n",
    "    current_node = huffman_tree_root\n",
    "    for bit in encoded_data:\n",
    "        if bit == '0':\n",
    "            current_node = current_node.left\n",
    "        else:\n",
    "            current_node = current_node.right\n",
    "        if current_node.left is None and current_node.right is None:\n",
    "            decoded_data += current_node.char\n",
    "            current_node = huffman_tree_root\n",
    "    return decoded_data\n",
    "\n",
    "# Driver code for user input\n",
    "if __name__ == \"__main__\":\n",
    "    data = input(\"Enter data to encode using Huffman coding: \")\n",
    "    encoded_data, huffman_tree_root = huffman_encoding(data)\n",
    "    \n",
    "    if huffman_tree_root is not None:\n",
    "        print(f\"Encoded Data: {encoded_data}\")\n",
    "        decoded_data = huffman_decoding(encoded_data, huffman_tree_root)\n",
    "        print(f\"Decoded Data: {decoded_data}\")\n",
    "    else:\n",
    "        print(encoded_data)  # Error message if input is invalid\n"
   ]
  },
  {
   "cell_type": "code",
   "execution_count": null,
   "id": "a52fe556-0113-4d08-8c1b-87d6b5790473",
   "metadata": {},
   "outputs": [],
   "source": []
  }
 ],
 "metadata": {
  "kernelspec": {
   "display_name": "Python 3 (ipykernel)",
   "language": "python",
   "name": "python3"
  },
  "language_info": {
   "codemirror_mode": {
    "name": "ipython",
    "version": 3
   },
   "file_extension": ".py",
   "mimetype": "text/x-python",
   "name": "python",
   "nbconvert_exporter": "python",
   "pygments_lexer": "ipython3",
   "version": "3.12.1"
  }
 },
 "nbformat": 4,
 "nbformat_minor": 5
}
