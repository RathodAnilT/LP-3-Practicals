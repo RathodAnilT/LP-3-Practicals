{
 "cells": [
  {
   "cell_type": "code",
   "execution_count": null,
   "id": "d3684903-3dc2-49ec-83c7-b497271e754c",
   "metadata": {},
   "outputs": [],
   "source": [
    "\"\"\" Practical: 3)\n",
    "Problem Statement:\n",
    "Write a program to solve the fractional knapsack problem using a greedy method. \"\"\""
   ]
  },
  {
   "cell_type": "code",
   "execution_count": 1,
   "id": "78080a0f-5c18-44e0-a031-6dd3c94c38a0",
   "metadata": {},
   "outputs": [
    {
     "name": "stdin",
     "output_type": "stream",
     "text": [
      "Enter the number of items:  3\n",
      "Enter value of item 1:  10\n",
      "Enter weight of item 1:  100\n",
      "Enter value of item 2:  60\n",
      "Enter weight of item 2:  20\n",
      "Enter value of item 3:  120\n",
      "Enter weight of item 3:  30\n",
      "Enter the capacity of the knapsack:  50\n"
     ]
    },
    {
     "name": "stdout",
     "output_type": "stream",
     "text": [
      "Maximum value we can obtain = 180.0\n"
     ]
    }
   ],
   "source": [
    "\n",
    "# Class to represent an item with value and weight\n",
    "class Item:\n",
    "    def __init__(self, value, weight):\n",
    "        self.value = value\n",
    "        self.weight = weight\n",
    "\n",
    "# Function to calculate the maximum value that can be carried\n",
    "def fractional_knapsack(items, capacity):\n",
    "    # Sort items by value-to-weight ratio in descending order\n",
    "    items.sort(key=lambda item: item.value / item.weight, reverse=True)\n",
    "    total_value = 0.0  # To store the total value\n",
    "\n",
    "    for item in items:\n",
    "        if capacity >= item.weight:\n",
    "            # If the item can fit in the remaining capacity, take it all\n",
    "            capacity -= item.weight\n",
    "            total_value += item.value\n",
    "        else:\n",
    "            # Otherwise, take the fraction of the item that fits\n",
    "            fraction = capacity / item.weight\n",
    "            total_value += item.value * fraction\n",
    "            break  # The knapsack is full\n",
    "\n",
    "    return total_value\n",
    "\n",
    "# Driver code\n",
    "if __name__ == \"__main__\":\n",
    "    # User input for number of items\n",
    "    n = int(input(\"Enter the number of items: \"))\n",
    "    \n",
    "    # Initialize the items list\n",
    "    items = []\n",
    "    \n",
    "    # Get user input for each item\n",
    "    for i in range(n):\n",
    "        value = float(input(f\"Enter value of item {i + 1}: \"))\n",
    "        weight = float(input(f\"Enter weight of item {i + 1}: \"))\n",
    "        items.append(Item(value, weight))\n",
    "\n",
    "    # User input for the capacity of the knapsack\n",
    "    capacity = float(input(\"Enter the capacity of the knapsack: \"))\n",
    "    \n",
    "    # Calculate and print the maximum value\n",
    "    max_value = fractional_knapsack(items, capacity)\n",
    "    print(f\"Maximum value we can obtain = {max_value}\")\n"
   ]
  },
  {
   "cell_type": "code",
   "execution_count": null,
   "id": "86668374-d404-4f42-a926-29c7612819b0",
   "metadata": {},
   "outputs": [],
   "source": []
  }
 ],
 "metadata": {
  "kernelspec": {
   "display_name": "Python 3 (ipykernel)",
   "language": "python",
   "name": "python3"
  },
  "language_info": {
   "codemirror_mode": {
    "name": "ipython",
    "version": 3
   },
   "file_extension": ".py",
   "mimetype": "text/x-python",
   "name": "python",
   "nbconvert_exporter": "python",
   "pygments_lexer": "ipython3",
   "version": "3.12.1"
  }
 },
 "nbformat": 4,
 "nbformat_minor": 5
}
