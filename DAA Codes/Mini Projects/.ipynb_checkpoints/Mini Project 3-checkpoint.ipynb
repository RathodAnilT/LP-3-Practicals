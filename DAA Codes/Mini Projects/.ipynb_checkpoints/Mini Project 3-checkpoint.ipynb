{
 "cells": [
  {
   "cell_type": "code",
   "execution_count": null,
   "id": "801bce53-c174-4797-aebd-93e6e7a64e65",
   "metadata": {},
   "outputs": [],
   "source": [
    "\"\"\" 3\n",
    "Problem Statement\n",
    "Mini Project - Implement the Naive string matching algorithm and Rabin-Karp algorithm for string\n",
    "matching. Observe difference in working of both the algorithms for the same input.\n",
    "\"\"\""
   ]
  },
  {
   "cell_type": "code",
   "execution_count": 1,
   "id": "11cd31db-32b5-4bd4-acfc-f82ae1376047",
   "metadata": {},
   "outputs": [
    {
     "name": "stdin",
     "output_type": "stream",
     "text": [
      "Enter the text:  ABAAABCD\n",
      "Enter the pattern to search for:  ABC\n"
     ]
    },
    {
     "name": "stdout",
     "output_type": "stream",
     "text": [
      "Pattern 'ABC' found at positions (Naive): [4]\n"
     ]
    }
   ],
   "source": [
    "# Code for Naive String Matching Algorithm\n",
    "\n",
    "def naive_string_matcher(text, pattern):\n",
    "    n = len(text)\n",
    "    m = len(pattern)\n",
    "    result = []\n",
    "    \n",
    "    # Slide the pattern over text one by one\n",
    "    for i in range(n - m + 1):\n",
    "        # Check the substring text[i:i+m]\n",
    "        match = True\n",
    "        for j in range(m):\n",
    "            if text[i + j] != pattern[j]:\n",
    "                match = False\n",
    "                break\n",
    "        if match:\n",
    "            result.append(i)\n",
    "    \n",
    "    return result\n",
    "\n",
    "def get_input():\n",
    "    text = input(\"Enter the text: \")\n",
    "    pattern = input(\"Enter the pattern to search for: \")\n",
    "    return text, pattern\n",
    "\n",
    "# Main execution\n",
    "if __name__ == \"__main__\":\n",
    "    # Get user input for text and pattern\n",
    "    text, pattern = get_input()\n",
    "    \n",
    "    result = naive_string_matcher(text, pattern)\n",
    "    print(f\"Pattern '{pattern}' found at positions (Naive): {result}\")\n"
   ]
  },
  {
   "cell_type": "code",
   "execution_count": 2,
   "id": "84d129d1-fe2b-4a43-952c-5d620a435e8e",
   "metadata": {},
   "outputs": [
    {
     "name": "stdin",
     "output_type": "stream",
     "text": [
      "Enter the text:  ABAAABCD\n",
      "Enter the pattern to search for:  ABC\n"
     ]
    },
    {
     "name": "stdout",
     "output_type": "stream",
     "text": [
      "Pattern 'ABC' found at positions (Rabin-Karp): [4]\n"
     ]
    }
   ],
   "source": [
    "# Code for Rabin-Karp Algorithm\n",
    "\n",
    "def rabin_karp(text, pattern, q=101):  # q is a prime number\n",
    "    d = 256  # Number of characters in the input alphabet\n",
    "    n = len(text)\n",
    "    m = len(pattern)\n",
    "    result = []\n",
    "    \n",
    "    h = 1  # Hash factor\n",
    "    p = 0  # Hash value for pattern\n",
    "    t = 0  # Hash value for text\n",
    "    \n",
    "    # Precompute h = (d^(m-1)) % q\n",
    "    for i in range(m - 1):\n",
    "        h = (h * d) % q\n",
    "\n",
    "    # Compute the hash value of the pattern and first window of text\n",
    "    for i in range(m):\n",
    "        p = (d * p + ord(pattern[i])) % q\n",
    "        t = (d * t + ord(text[i])) % q\n",
    "\n",
    "    # Slide the pattern over text one by one\n",
    "    for i in range(n - m + 1):\n",
    "        # If the hash values match, then only check for characters one by one\n",
    "        if p == t:\n",
    "            if text[i:i + m] == pattern:\n",
    "                result.append(i)\n",
    "\n",
    "        # Calculate hash value for next window of text\n",
    "        if i < n - m:\n",
    "            t = (d * (t - ord(text[i]) * h) + ord(text[i + m])) % q\n",
    "            if t < 0:\n",
    "                t += q\n",
    "                \n",
    "    return result\n",
    "\n",
    "# Main execution\n",
    "if __name__ == \"__main__\":\n",
    "    # Get user input for text and pattern\n",
    "    text, pattern = get_input()\n",
    "    \n",
    "    result = rabin_karp(text, pattern)\n",
    "    print(f\"Pattern '{pattern}' found at positions (Rabin-Karp): {result}\")\n"
   ]
  },
  {
   "cell_type": "code",
   "execution_count": null,
   "id": "33f1bb59-2872-4712-b16c-1e5866d6796c",
   "metadata": {},
   "outputs": [],
   "source": []
  }
 ],
 "metadata": {
  "kernelspec": {
   "display_name": "Python 3 (ipykernel)",
   "language": "python",
   "name": "python3"
  },
  "language_info": {
   "codemirror_mode": {
    "name": "ipython",
    "version": 3
   },
   "file_extension": ".py",
   "mimetype": "text/x-python",
   "name": "python",
   "nbconvert_exporter": "python",
   "pygments_lexer": "ipython3",
   "version": "3.12.1"
  }
 },
 "nbformat": 4,
 "nbformat_minor": 5
}
