{
 "cells": [
  {
   "cell_type": "code",
   "execution_count": null,
   "id": "a701afca-23aa-47a4-b901-f214d9fcfa1c",
   "metadata": {},
   "outputs": [],
   "source": [
    "\"\"\" 1\n",
    "Problem Statement\n",
    "Mini Project - Write a program to implement matrix multiplication. Also implement multithreaded matrix\n",
    "multiplication with either one thread per row or one thread per cell. Analyze and compare their performance.\n",
    "\"\"\""
   ]
  },
  {
   "cell_type": "code",
   "execution_count": 1,
   "id": "debb0b6e-a5c9-40b9-b716-7e0ba399d265",
   "metadata": {},
   "outputs": [
    {
     "name": "stdin",
     "output_type": "stream",
     "text": [
      "Enter the number of rows for matrix A:  3\n",
      "Enter the number of columns for matrix A:  3\n",
      "Enter the number of rows for matrix B (must be equal to columns of A):  3\n",
      "Enter the number of columns for matrix B:  3\n"
     ]
    },
    {
     "name": "stdout",
     "output_type": "stream",
     "text": [
      "Enter the matrix (rows: 3, cols: 3):\n"
     ]
    },
    {
     "name": "stdin",
     "output_type": "stream",
     "text": [
      "Row 1:  1 2 3\n",
      "Row 2:  4 5 6\n",
      "Row 3:  7 8 9\n"
     ]
    },
    {
     "name": "stdout",
     "output_type": "stream",
     "text": [
      "Enter the matrix (rows: 3, cols: 3):\n"
     ]
    },
    {
     "name": "stdin",
     "output_type": "stream",
     "text": [
      "Row 1:  9 8 7\n",
      "Row 2:  6 5 4\n",
      "Row 3:  3 2 1\n"
     ]
    },
    {
     "name": "stdout",
     "output_type": "stream",
     "text": [
      "Resulting Matrix C (A * B):\n",
      "[30, 24, 18]\n",
      "[84, 69, 54]\n",
      "[138, 114, 90]\n",
      "Time taken: 0.0 seconds\n"
     ]
    }
   ],
   "source": [
    "import time\n",
    "\n",
    "def matrix_multiply(A, B):\n",
    "    n = len(A)\n",
    "    m = len(A[0])\n",
    "    p = len(B[0])\n",
    "    # Initialize result matrix\n",
    "    C = [[0 for _ in range(p)] for _ in range(n)]\n",
    "    # Perform matrix multiplication\n",
    "    for i in range(n):\n",
    "        for j in range(p):\n",
    "            for k in range(m):\n",
    "                C[i][j] += A[i][k] * B[k][j]\n",
    "    return C\n",
    "\n",
    "def get_matrix(rows, cols):\n",
    "    print(f\"Enter the matrix (rows: {rows}, cols: {cols}):\")\n",
    "    matrix = []\n",
    "    for i in range(rows):\n",
    "        row = list(map(int, input(f\"Row {i + 1}: \").split()))\n",
    "        if len(row) != cols:\n",
    "            print(f\"Error: Row {i + 1} must contain exactly {cols} elements.\")\n",
    "            exit(1)\n",
    "        matrix.append(row)\n",
    "    return matrix\n",
    "\n",
    "# Main execution\n",
    "if __name__ == \"__main__\":\n",
    "    # User input for dimensions of matrices\n",
    "    rows_A = int(input(\"Enter the number of rows for matrix A: \"))\n",
    "    cols_A = int(input(\"Enter the number of columns for matrix A: \"))\n",
    "    rows_B = int(input(\"Enter the number of rows for matrix B (must be equal to columns of A): \"))\n",
    "    cols_B = int(input(\"Enter the number of columns for matrix B: \"))\n",
    "\n",
    "    if cols_A != rows_B:\n",
    "        print(\"Error: Number of columns in A must equal number of rows in B.\")\n",
    "        exit(1)\n",
    "\n",
    "    # Get matrices A and B from user\n",
    "    A = get_matrix(rows_A, cols_A)\n",
    "    B = get_matrix(rows_B, cols_B)\n",
    "\n",
    "    # Multiply matrices A and B\n",
    "    start = time.time()\n",
    "    C = matrix_multiply(A, B)\n",
    "    end = time.time()\n",
    "\n",
    "    # Print resulting matrix C\n",
    "    print(\"Resulting Matrix C (A * B):\")\n",
    "    for row in C:\n",
    "        print(row)\n",
    "    print(f\"Time taken: {end - start} seconds\")\n"
   ]
  },
  {
   "cell_type": "code",
   "execution_count": 2,
   "id": "da56461d-b63d-437e-96f3-68ffddef8323",
   "metadata": {},
   "outputs": [
    {
     "name": "stdin",
     "output_type": "stream",
     "text": [
      "Enter the number of rows for matrix A:  3\n",
      "Enter the number of columns for matrix A:  3\n",
      "Enter the number of rows for matrix B (must be equal to columns of A):  3\n",
      "Enter the number of columns for matrix B:  3\n"
     ]
    },
    {
     "name": "stdout",
     "output_type": "stream",
     "text": [
      "Enter the matrix (rows: 3, cols: 3):\n"
     ]
    },
    {
     "name": "stdin",
     "output_type": "stream",
     "text": [
      "Row 1:  1 2 3\n",
      "Row 2:  4 5 6 \n",
      "Row 3:  7 8 9\n"
     ]
    },
    {
     "name": "stdout",
     "output_type": "stream",
     "text": [
      "Enter the matrix (rows: 3, cols: 3):\n"
     ]
    },
    {
     "name": "stdin",
     "output_type": "stream",
     "text": [
      "Row 1:  9 8 7\n",
      "Row 2:  6 5 4\n",
      "Row 3:  3 2 1\n"
     ]
    },
    {
     "name": "stdout",
     "output_type": "stream",
     "text": [
      "Resulting Matrix C (A * B):\n",
      "[30, 24, 18]\n",
      "[84, 69, 54]\n",
      "[138, 114, 90]\n",
      "Time taken: 0.0009872913360595703 seconds\n"
     ]
    }
   ],
   "source": [
    "import time\n",
    "import threading\n",
    "\n",
    "# Thread function to compute one row\n",
    "def multiply_row(A, B, C, row):\n",
    "    n = len(A)\n",
    "    m = len(A[0])\n",
    "    p = len(B[0])\n",
    "    for j in range(p):\n",
    "        C[row][j] = sum(A[row][k] * B[k][j] for k in range(m))\n",
    "\n",
    "def matrix_multiply_multithreaded(A, B):\n",
    "    n = len(A)\n",
    "    p = len(B[0])\n",
    "    # Initialize result matrix\n",
    "    C = [[0 for _ in range(p)] for _ in range(n)]\n",
    "    # Create threads, one per row\n",
    "    threads = []\n",
    "    for i in range(n):\n",
    "        thread = threading.Thread(target=multiply_row, args=(A, B, C, i))\n",
    "        threads.append(thread)\n",
    "        thread.start()\n",
    "    \n",
    "    # Wait for all threads to complete\n",
    "    for thread in threads:\n",
    "        thread.join()\n",
    "    \n",
    "    return C\n",
    "\n",
    "def get_matrix(rows, cols):\n",
    "    print(f\"Enter the matrix (rows: {rows}, cols: {cols}):\")\n",
    "    matrix = []\n",
    "    for i in range(rows):\n",
    "        row = list(map(int, input(f\"Row {i + 1}: \").split()))\n",
    "        if len(row) != cols:\n",
    "            print(f\"Error: Row {i + 1} must contain exactly {cols} elements.\")\n",
    "            exit(1)\n",
    "        matrix.append(row)\n",
    "    return matrix\n",
    "\n",
    "# Main execution\n",
    "if __name__ == \"__main__\":\n",
    "    # User input for dimensions of matrices\n",
    "    rows_A = int(input(\"Enter the number of rows for matrix A: \"))\n",
    "    cols_A = int(input(\"Enter the number of columns for matrix A: \"))\n",
    "    rows_B = int(input(\"Enter the number of rows for matrix B (must be equal to columns of A): \"))\n",
    "    cols_B = int(input(\"Enter the number of columns for matrix B: \"))\n",
    "\n",
    "    if cols_A != rows_B:\n",
    "        print(\"Error: Number of columns in A must equal number of rows in B.\")\n",
    "        exit(1)\n",
    "\n",
    "    # Get matrices A and B from user\n",
    "    A = get_matrix(rows_A, cols_A)\n",
    "    B = get_matrix(rows_B, cols_B)\n",
    "\n",
    "    # Multiply matrices A and B using multithreading\n",
    "    start = time.time()\n",
    "    C = matrix_multiply_multithreaded(A, B)\n",
    "    end = time.time()\n",
    "\n",
    "    # Print resulting matrix C\n",
    "    print(\"Resulting Matrix C (A * B):\")\n",
    "    for row in C:\n",
    "        print(row)\n",
    "    print(f\"Time taken: {end - start} seconds\")\n"
   ]
  },
  {
   "cell_type": "code",
   "execution_count": null,
   "id": "3ca08c44-58f2-4ea0-82d4-5a2efff3c6be",
   "metadata": {},
   "outputs": [],
   "source": []
  }
 ],
 "metadata": {
  "kernelspec": {
   "display_name": "Python 3 (ipykernel)",
   "language": "python",
   "name": "python3"
  },
  "language_info": {
   "codemirror_mode": {
    "name": "ipython",
    "version": 3
   },
   "file_extension": ".py",
   "mimetype": "text/x-python",
   "name": "python",
   "nbconvert_exporter": "python",
   "pygments_lexer": "ipython3",
   "version": "3.12.1"
  }
 },
 "nbformat": 4,
 "nbformat_minor": 5
}
