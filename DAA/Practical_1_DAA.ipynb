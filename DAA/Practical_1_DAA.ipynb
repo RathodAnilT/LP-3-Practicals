{
 "cells": [
  {
   "cell_type": "code",
   "execution_count": 1,
   "id": "33de3054-08f2-4ff8-a083-ace8e17fb3ec",
   "metadata": {},
   "outputs": [
    {
     "data": {
      "text/plain": [
       "' Problem Statement:\\nWrite a non-recursive and recursive program to calculate Fibonacci numbers and analyze their\\ntime and space complexity'"
      ]
     },
     "execution_count": 1,
     "metadata": {},
     "output_type": "execute_result"
    }
   ],
   "source": [
    "\"\"\" Practical: 1) \n",
    "Problem Statement:\n",
    "Write a non-recursive and recursive program to calculate Fibonacci numbers and analyze their\n",
    "time and space complexity\"\"\"\n"
   ]
  },
  {
   "cell_type": "code",
   "execution_count": 3,
   "id": "fbf92cf7-4351-48e6-9366-fc11ece6cf19",
   "metadata": {},
   "outputs": [
    {
     "name": "stdin",
     "output_type": "stream",
     "text": [
      "Enter a non-negative integer for non-recursive Fibonacci:  10\n"
     ]
    },
    {
     "name": "stdout",
     "output_type": "stream",
     "text": [
      "Non-recursive Fibonacci of 10: 55\n"
     ]
    }
   ],
   "source": [
    "# 1. Non-Recursive Fibonacci with User Input:\n",
    "def fibonacci_non_recursive(n):\n",
    "    # Handle edge cases\n",
    "    if n < 0:\n",
    "        return \"Input must be a non-negative integer.\"\n",
    "    elif n == 0:\n",
    "        return 0\n",
    "    elif n == 1:\n",
    "        return 1\n",
    "\n",
    "    # Initialize base Fibonacci numbers\n",
    "    a, b = 0, 1\n",
    "    for i in range(2, n + 1):\n",
    "        fib = a + b\n",
    "        a = b\n",
    "        b = fib\n",
    "    return b\n",
    "\n",
    "# Get input from the user and ensure valid input\n",
    "try:\n",
    "    n = int(input(\"Enter a non-negative integer for non-recursive Fibonacci: \"))\n",
    "    print(f\"Non-recursive Fibonacci of {n}: {fibonacci_non_recursive(n)}\")\n",
    "except ValueError:\n",
    "    print(\"Invalid input! Please enter a valid non-negative integer.\")\n"
   ]
  },
  {
   "cell_type": "code",
   "execution_count": 5,
   "id": "05d8c232-1bbd-4b8c-b930-9365b4be64ba",
   "metadata": {},
   "outputs": [
    {
     "name": "stdin",
     "output_type": "stream",
     "text": [
      "Enter a number for recursive Fibonacci:  2\n"
     ]
    },
    {
     "name": "stdout",
     "output_type": "stream",
     "text": [
      "Recursive Fibonacci of 2: 1\n"
     ]
    }
   ],
   "source": [
    "#2. Recursive Fibonacci with User Input:\n",
    "def fibonacci_recursive(n):\n",
    "    if n == 0:\n",
    "        return 0\n",
    "    elif n == 1:\n",
    "        return 1\n",
    "    else:\n",
    "        return fibonacci_recursive(n - 1) + fibonacci_recursive(n - 2)\n",
    "\n",
    "# Get input from the user\n",
    "n = int(input(\"Enter a number for recursive Fibonacci: \"))\n",
    "print(f\"Recursive Fibonacci of {n}: {fibonacci_recursive(n)}\")\n"
   ]
  },
  {
   "cell_type": "code",
   "execution_count": null,
   "id": "cdf4ec84-353b-4f20-8f97-e8d5c6c82c12",
   "metadata": {},
   "outputs": [],
   "source": []
  }
 ],
 "metadata": {
  "kernelspec": {
   "display_name": "Python 3 (ipykernel)",
   "language": "python",
   "name": "python3"
  },
  "language_info": {
   "codemirror_mode": {
    "name": "ipython",
    "version": 3
   },
   "file_extension": ".py",
   "mimetype": "text/x-python",
   "name": "python",
   "nbconvert_exporter": "python",
   "pygments_lexer": "ipython3",
   "version": "3.12.1"
  }
 },
 "nbformat": 4,
 "nbformat_minor": 5
}
