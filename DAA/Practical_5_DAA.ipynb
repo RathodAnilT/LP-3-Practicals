{
 "cells": [
  {
   "cell_type": "code",
   "execution_count": null,
   "id": "e0acd08e-147f-48d8-927c-e8067d5d63f4",
   "metadata": {},
   "outputs": [],
   "source": [
    "\"\"\"  Practical: 5\n",
    "Problem Statement:\n",
    "Design an n x n matrix with the first queen already placed. Use backtracking to place the remaining\n",
    "queens and generate the final n-queens matrix.\"\"\""
   ]
  },
  {
   "cell_type": "code",
   "execution_count": 1,
   "id": "3ac32adf-2f04-4379-a2c7-5e78d570622e",
   "metadata": {},
   "outputs": [
    {
     "name": "stdin",
     "output_type": "stream",
     "text": [
      "Enter the size of the chessboard (N):  4\n"
     ]
    },
    {
     "name": "stdout",
     "output_type": "stream",
     "text": [
      ". Q . .\n",
      ". . . Q\n",
      "Q . . .\n",
      ". . Q .\n",
      "\n"
     ]
    }
   ],
   "source": [
    "# Function to check if it's safe to place a queen at (row, col)\n",
    "def is_safe(board, row, col):\n",
    "    # Check this column on upper side\n",
    "    for i in range(row):\n",
    "        if board[i][col] == \"Q\":\n",
    "            return False\n",
    "    \n",
    "    # Check upper diagonal on left side\n",
    "    for i, j in zip(range(row, -1, -1), range(col, -1, -1)):\n",
    "        if board[i][j] == \"Q\":\n",
    "            return False\n",
    "    \n",
    "    # Check upper diagonal on right side\n",
    "    for i, j in zip(range(row, -1, -1), range(col, len(board))):\n",
    "        if board[i][j] == \"Q\":\n",
    "            return False\n",
    "    \n",
    "    return True\n",
    "\n",
    "# Backtracking function to solve the N-Queens problem\n",
    "def solve_n_queens(board, row):\n",
    "    # Base case: If all queens are placed\n",
    "    if row >= len(board):\n",
    "        print_board(board)\n",
    "        return True  # Found one solution\n",
    "    \n",
    "    # Try placing the queen in all columns of this row\n",
    "    for col in range(len(board)):\n",
    "        if is_safe(board, row, col):\n",
    "            # Place the queen\n",
    "            board[row][col] = \"Q\"\n",
    "            \n",
    "            # Recur to place the rest of the queens\n",
    "            if solve_n_queens(board, row + 1):\n",
    "                return True  # Found a valid solution\n",
    "            \n",
    "            # If placing queen in this column doesn't lead to a solution, backtrack\n",
    "            board[row][col] = \".\"  # Use '.' to represent empty spaces\n",
    "            \n",
    "    return False  # No valid solution for this row\n",
    "\n",
    "# Function to print the chessboard\n",
    "def print_board(board):\n",
    "    for row in board:\n",
    "        print(\" \".join(row))\n",
    "    print()\n",
    "\n",
    "# Driver code\n",
    "if __name__ == \"__main__\":\n",
    "    N = int(input(\"Enter the size of the chessboard (N): \"))\n",
    "    board = [[\".\" for _ in range(N)] for _ in range(N)]  # N x N chessboard with '.' for empty spaces\n",
    "    \n",
    "    # Start solving from the first row\n",
    "    if not solve_n_queens(board, 0):\n",
    "        print(\"No solution exists\")\n"
   ]
  },
  {
   "cell_type": "code",
   "execution_count": null,
   "id": "e7197043-29bf-4db6-80b8-b718c180b02f",
   "metadata": {},
   "outputs": [],
   "source": []
  }
 ],
 "metadata": {
  "kernelspec": {
   "display_name": "Python 3 (ipykernel)",
   "language": "python",
   "name": "python3"
  },
  "language_info": {
   "codemirror_mode": {
    "name": "ipython",
    "version": 3
   },
   "file_extension": ".py",
   "mimetype": "text/x-python",
   "name": "python",
   "nbconvert_exporter": "python",
   "pygments_lexer": "ipython3",
   "version": "3.12.1"
  }
 },
 "nbformat": 4,
 "nbformat_minor": 5
}
