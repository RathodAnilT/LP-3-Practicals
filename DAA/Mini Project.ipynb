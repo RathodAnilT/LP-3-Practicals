{
 "cells": [
  {
   "cell_type": "code",
   "execution_count": null,
   "id": "95629207-0896-4312-9a2f-4170abb2e21c",
   "metadata": {},
   "outputs": [],
   "source": [
    "# Note:- This Mini project is for Batch-3 i.e B3 only.........\n",
    "\n",
    "\"\"\" 4\n",
    "Mini Project - Different exact and approximation algorithms for Travelling-Sales-Person Problem\n",
    "\"\"\""
   ]
  },
  {
   "cell_type": "code",
   "execution_count": 3,
   "id": "6e2c166b-e18f-4d6a-9076-fbfa8045fbd8",
   "metadata": {},
   "outputs": [
    {
     "name": "stdin",
     "output_type": "stream",
     "text": [
      "Enter the number of cities:  4\n"
     ]
    },
    {
     "name": "stdout",
     "output_type": "stream",
     "text": [
      "Enter the distance matrix row by row:\n"
     ]
    },
    {
     "name": "stdin",
     "output_type": "stream",
     "text": [
      "Row 1:  0 10 15 20\n",
      "Row 2:  10 0 35 25\n",
      "Row 3:  15 35 0 30\n",
      "Row 4:  20 25 30 0\n"
     ]
    },
    {
     "name": "stdout",
     "output_type": "stream",
     "text": [
      "Optimal Route (Brute-Force): (0, 1, 3, 2)\n",
      "Minimum Distance: 80\n",
      "Time taken: 0.0000 seconds\n"
     ]
    }
   ],
   "source": [
    "import itertools\n",
    "import sys\n",
    "import time\n",
    "\n",
    "def calculate_total_distance(route, distance_matrix):\n",
    "    total = 0\n",
    "    for i in range(len(route)):\n",
    "        total += distance_matrix[route[i]][route[(i + 1) % len(route)]]\n",
    "    return total\n",
    "\n",
    "def brute_force_tsp(distance_matrix):\n",
    "    n = len(distance_matrix)\n",
    "    cities = list(range(n))\n",
    "    min_distance = sys.maxsize\n",
    "    best_route = []\n",
    "    \n",
    "    # Generate all possible permutations of cities\n",
    "    for perm in itertools.permutations(cities):\n",
    "        current_distance = calculate_total_distance(perm, distance_matrix)\n",
    "        if current_distance < min_distance:\n",
    "            min_distance = current_distance\n",
    "            best_route = perm\n",
    "    return best_route, min_distance\n",
    "\n",
    "def get_distance_matrix(num_cities):\n",
    "    distance_matrix = []\n",
    "    print(\"Enter the distance matrix row by row:\")\n",
    "    for i in range(num_cities):\n",
    "        row = list(map(int, input(f\"Row {i + 1}: \").split()))\n",
    "        if len(row) != num_cities:\n",
    "            print(f\"Error: Row {i + 1} must contain exactly {num_cities} distances.\")\n",
    "            sys.exit(1)\n",
    "        distance_matrix.append(row)\n",
    "    return distance_matrix\n",
    "\n",
    "# Main execution\n",
    "if __name__ == \"__main__\":\n",
    "    # User input for number of cities\n",
    "    num_cities = int(input(\"Enter the number of cities: \"))\n",
    "    distance_matrix = get_distance_matrix(num_cities)\n",
    "    \n",
    "    start_time = time.time()\n",
    "    route, distance = brute_force_tsp(distance_matrix)\n",
    "    end_time = time.time()\n",
    "    \n",
    "    print(\"Optimal Route (Brute-Force):\", route)\n",
    "    print(\"Minimum Distance:\", distance)\n",
    "    print(f\"Time taken: {end_time - start_time:.4f} seconds\")\n"
   ]
  },
  {
   "cell_type": "code",
   "execution_count": 4,
   "id": "7dfe95b6-77ef-4660-81cf-d5373c6346f8",
   "metadata": {},
   "outputs": [
    {
     "name": "stdin",
     "output_type": "stream",
     "text": [
      "Enter the number of cities:  4\n"
     ]
    },
    {
     "name": "stdout",
     "output_type": "stream",
     "text": [
      "Enter the distance matrix row by row:\n"
     ]
    },
    {
     "name": "stdin",
     "output_type": "stream",
     "text": [
      "Row 1:  0 10 15 20\n",
      "Row 2:  10 0 35 25\n",
      "Row 3:  15 35 0 30\n",
      "Row 4:  20 25 30 0\n"
     ]
    },
    {
     "name": "stdout",
     "output_type": "stream",
     "text": [
      "Route (Nearest Neighbor): [0, 1, 3, 2, 0]\n",
      "Total Distance: 80\n",
      "Time taken: 0.000000 seconds\n"
     ]
    }
   ],
   "source": [
    "import time\n",
    "\n",
    "def nearest_neighbor_tsp(distance_matrix, start=0):\n",
    "    n = len(distance_matrix)\n",
    "    unvisited = set(range(n))\n",
    "    unvisited.remove(start)\n",
    "    route = [start]\n",
    "    total_distance = 0\n",
    "    current = start\n",
    "\n",
    "    while unvisited:\n",
    "        next_city = min(unvisited, key=lambda city: distance_matrix[current][city])\n",
    "        total_distance += distance_matrix[current][next_city]\n",
    "        route.append(next_city)\n",
    "        current = next_city\n",
    "        unvisited.remove(next_city)\n",
    "    \n",
    "    # Return to start\n",
    "    total_distance += distance_matrix[current][start]\n",
    "    route.append(start)\n",
    "    \n",
    "    return route, total_distance\n",
    "\n",
    "def get_distance_matrix(num_cities):\n",
    "    distance_matrix = []\n",
    "    print(\"Enter the distance matrix row by row:\")\n",
    "    for i in range(num_cities):\n",
    "        row = list(map(int, input(f\"Row {i + 1}: \").split()))\n",
    "        if len(row) != num_cities:\n",
    "            print(f\"Error: Row {i + 1} must contain exactly {num_cities} distances.\")\n",
    "            sys.exit(1)\n",
    "        distance_matrix.append(row)\n",
    "    return distance_matrix\n",
    "\n",
    "# Main execution\n",
    "if __name__ == \"__main__\":\n",
    "    # User input for number of cities\n",
    "    num_cities = int(input(\"Enter the number of cities: \"))\n",
    "    distance_matrix = get_distance_matrix(num_cities)\n",
    "    \n",
    "    start_time = time.time()\n",
    "    route, distance = nearest_neighbor_tsp(distance_matrix)\n",
    "    end_time = time.time()\n",
    "\n",
    "    print(\"Route (Nearest Neighbor):\", route)\n",
    "    print(\"Total Distance:\", distance)\n",
    "    print(f\"Time taken: {end_time - start_time:.6f} seconds\")\n"
   ]
  },
  {
   "cell_type": "code",
   "execution_count": null,
   "id": "4ac44489-cc38-472f-b77d-fd0e397587c0",
   "metadata": {},
   "outputs": [],
   "source": []
  }
 ],
 "metadata": {
  "kernelspec": {
   "display_name": "Python 3 (ipykernel)",
   "language": "python",
   "name": "python3"
  },
  "language_info": {
   "codemirror_mode": {
    "name": "ipython",
    "version": 3
   },
   "file_extension": ".py",
   "mimetype": "text/x-python",
   "name": "python",
   "nbconvert_exporter": "python",
   "pygments_lexer": "ipython3",
   "version": "3.12.1"
  }
 },
 "nbformat": 4,
 "nbformat_minor": 5
}
